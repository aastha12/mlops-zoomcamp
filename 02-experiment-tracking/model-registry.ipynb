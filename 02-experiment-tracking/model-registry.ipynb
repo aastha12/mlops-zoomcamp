{
 "cells": [
  {
   "cell_type": "markdown",
   "metadata": {},
   "source": [
    "## MLflow's Model Registry"
   ]
  },
  {
   "cell_type": "code",
   "execution_count": 56,
   "metadata": {},
   "outputs": [],
   "source": [
    "from mlflow.tracking import MlflowClient\n",
    "\n",
    "\n",
    "MLFLOW_TRACKING_URI = \"sqlite:///mlflow.db\""
   ]
  },
  {
   "cell_type": "markdown",
   "metadata": {},
   "source": [
    "### Interacting with the MLflow tracking server\n",
    "\n",
    "The `MlflowClient` object allows us to interact with...\n",
    "- an MLflow Tracking Server that creates and manages experiments and runs.\n",
    "- an MLflow Registry Server that creates and manages registered models and model versions. \n",
    "\n",
    "To instantiate it we need to pass a tracking URI and/or a registry URI"
   ]
  },
  {
   "cell_type": "code",
   "execution_count": 57,
   "metadata": {},
   "outputs": [
    {
     "data": {
      "text/plain": [
       "[<Experiment: artifact_location=('/Users/aasth/Desktop/Data '\n",
       "  'analytics/MLOps/datatalks-zoomcamp/mlops-zoomcamp/02-experiment-tracking/mlruns/2'), creation_time=1700889822238, experiment_id='2', last_update_time=1700889822238, lifecycle_stage='active', name='my-cool-experiment', tags={}>,\n",
       " <Experiment: artifact_location=('/Users/aasth/Desktop/Data '\n",
       "  'analytics/MLOps/datatalks-zoomcamp/mlops-zoomcamp/02-experiment-tracking/mlruns/1'), creation_time=1700705746970, experiment_id='1', last_update_time=1700705746970, lifecycle_stage='active', name='nyc-taxi-experiment', tags={}>,\n",
       " <Experiment: artifact_location='mlflow-artifacts:/0', creation_time=1700705573743, experiment_id='0', last_update_time=1700705573743, lifecycle_stage='active', name='Default', tags={}>]"
      ]
     },
     "execution_count": 57,
     "metadata": {},
     "output_type": "execute_result"
    }
   ],
   "source": [
    "client = MlflowClient(tracking_uri=MLFLOW_TRACKING_URI)\n",
    "\n",
    "client.search_experiments()"
   ]
  },
  {
   "cell_type": "code",
   "execution_count": 58,
   "metadata": {},
   "outputs": [],
   "source": [
    "try:\n",
    "    client.create_experiment(name=\"my-cool-experiment\")\n",
    "except:\n",
    "    pass"
   ]
  },
  {
   "cell_type": "markdown",
   "metadata": {},
   "source": [
    "Let's check the latest versions for the experiment with id `1`..."
   ]
  },
  {
   "cell_type": "code",
   "execution_count": 63,
   "metadata": {},
   "outputs": [],
   "source": [
    "from mlflow.entities import ViewType\n",
    "\n",
    "runs = client.search_runs(\n",
    "    experiment_ids='1',\n",
    "    filter_string=\"metrics.rmse < 10\",\n",
    "    run_view_type=ViewType.ACTIVE_ONLY,\n",
    "    max_results=5,\n",
    "    order_by=[\"metrics.rmse ASC\"]\n",
    ")"
   ]
  },
  {
   "cell_type": "code",
   "execution_count": 64,
   "metadata": {},
   "outputs": [
    {
     "name": "stdout",
     "output_type": "stream",
     "text": [
      "run id: f459d99590f9460295ea6d82762a2a03, rmse: 4.9809\n",
      "run id: 3f259ee75a824c2fb5051229d9bb2bb2, rmse: 5.0170\n",
      "run id: 9db8170c993147c0ba35aa197f032abc, rmse: 5.0592\n",
      "run id: d9a5d41f07ef41f4a8eefa27bfe46b07, rmse: 5.1146\n",
      "run id: 2dabc4596bf64f43a0590490745b0597, rmse: 5.6476\n"
     ]
    }
   ],
   "source": [
    "for run in runs:\n",
    "    print(f\"run id: {run.info.run_id}, rmse: {run.data.metrics['rmse']:.4f}\")"
   ]
  },
  {
   "cell_type": "markdown",
   "metadata": {},
   "source": [
    "### Interacting with the Model Registry\n",
    "\n",
    "In this section We will use the `MlflowClient` instance to:\n",
    "\n",
    "1. Register a new version for the experiment `nyc-taxi-regressor`\n",
    "2. Retrieve the latests versions of the model `nyc-taxi-regressor` and check that a new version `4` was created.\n",
    "3. Transition the version `4` to \"Staging\" and adding annotations to it."
   ]
  },
  {
   "cell_type": "code",
   "execution_count": 73,
   "metadata": {},
   "outputs": [],
   "source": [
    "import mlflow\n",
    "\n",
    "mlflow.set_tracking_uri(MLFLOW_TRACKING_URI)"
   ]
  },
  {
   "cell_type": "code",
   "execution_count": 87,
   "metadata": {},
   "outputs": [
    {
     "name": "stderr",
     "output_type": "stream",
     "text": [
      "Registered model 'nyc-taxi-regressor-final' already exists. Creating a new version of this model...\n",
      "Created version '3' of model 'nyc-taxi-regressor-final'.\n"
     ]
    },
    {
     "data": {
      "text/plain": [
       "<ModelVersion: aliases=[], creation_timestamp=1701136692524, current_stage='None', description=None, last_updated_timestamp=1701136692524, name='nyc-taxi-regressor-final', run_id='2dabc4596bf64f43a0590490745b0597', run_link=None, source=('/Users/aasth/Desktop/Data '\n",
       " 'analytics/MLOps/datatalks-zoomcamp/mlops-zoomcamp/02-experiment-tracking/mlruns/1/2dabc4596bf64f43a0590490745b0597/artifacts/model'), status='READY', status_message=None, tags={}, user_id=None, version=3>"
      ]
     },
     "execution_count": 87,
     "metadata": {},
     "output_type": "execute_result"
    }
   ],
   "source": [
    "run_id = \"2dabc4596bf64f43a0590490745b0597\"\n",
    "model_uri = f\"runs:/{run_id}/model\"\n",
    "mlflow.register_model(model_uri=model_uri, name=\"nyc-taxi-regressor-final\")"
   ]
  },
  {
   "cell_type": "code",
   "execution_count": 75,
   "metadata": {},
   "outputs": [
    {
     "data": {
      "text/plain": [
       "[<RegisteredModel: aliases={}, creation_timestamp=1700890045698, description=None, last_updated_timestamp=1701135644803, latest_versions=[<ModelVersion: aliases=[], creation_timestamp=1700890045715, current_stage='Staging', description='The model version 1 was transitioned to Staging on 2023-11-25', last_updated_timestamp=1700890355697, name='nyc-taxi-regressor', run_id='2dabc4596bf64f43a0590490745b0597', run_link=None, source=('/Users/aasth/Desktop/Data '\n",
       "  'analytics/MLOps/datatalks-zoomcamp/mlops-zoomcamp/02-experiment-tracking/mlruns/1/2dabc4596bf64f43a0590490745b0597/artifacts/model'), status='READY', status_message=None, tags={}, user_id=None, version=1>,\n",
       "  <ModelVersion: aliases=[], creation_timestamp=1701131732773, current_stage='Archived', description='The model version 2 was transitioned to Staging on 2023-11-27', last_updated_timestamp=1701135644803, name='nyc-taxi-regressor', run_id='f459d99590f9460295ea6d82762a2a03', run_link=None, source=('/Users/aasth/Desktop/Data '\n",
       "  'analytics/MLOps/datatalks-zoomcamp/mlops-zoomcamp/02-experiment-tracking/mlruns/1/f459d99590f9460295ea6d82762a2a03/artifacts/model'), status='READY', status_message=None, tags={}, user_id=None, version=2>], name='nyc-taxi-regressor', tags={}>,\n",
       " <RegisteredModel: aliases={}, creation_timestamp=1701135855539, description=None, last_updated_timestamp=1701136078685, latest_versions=[<ModelVersion: aliases=[], creation_timestamp=1701135855561, current_stage='Staging', description='The model version 1 was transitioned to Staging on 2023-11-27', last_updated_timestamp=1701135918409, name='nyc-taxi-regressor-final', run_id='b3576fd5d2f94bc3b6a654c97036a2a0', run_link=None, source=('/Users/aasth/Desktop/Data '\n",
       "  'analytics/MLOps/datatalks-zoomcamp/mlops-zoomcamp/02-experiment-tracking/mlruns/1/b3576fd5d2f94bc3b6a654c97036a2a0/artifacts/model'), status='READY', status_message=None, tags={}, user_id=None, version=1>,\n",
       "  <ModelVersion: aliases=[], creation_timestamp=1701136078685, current_stage='None', description=None, last_updated_timestamp=1701136078685, name='nyc-taxi-regressor-final', run_id='2dabc4596bf64f43a0590490745b0597', run_link=None, source=('/Users/aasth/Desktop/Data '\n",
       "  'analytics/MLOps/datatalks-zoomcamp/mlops-zoomcamp/02-experiment-tracking/mlruns/1/2dabc4596bf64f43a0590490745b0597/artifacts/model'), status='READY', status_message=None, tags={}, user_id=None, version=2>], name='nyc-taxi-regressor-final', tags={}>,\n",
       " <RegisteredModel: aliases={}, creation_timestamp=1701132137341, description=None, last_updated_timestamp=1701135564738, latest_versions=[<ModelVersion: aliases=[], creation_timestamp=1701133019192, current_stage='Archived', description='The model version 3 was transitioned to Production on 2023-11-27', last_updated_timestamp=1701134108288, name='nyc-taxi-regressor-xgboost', run_id='2dabc4596bf64f43a0590490745b0597', run_link=None, source=('/Users/aasth/Desktop/Data '\n",
       "  'analytics/MLOps/datatalks-zoomcamp/mlops-zoomcamp/02-experiment-tracking/mlruns/1/2dabc4596bf64f43a0590490745b0597/artifacts/model'), status='READY', status_message=None, tags={}, user_id=None, version=3>,\n",
       "  <ModelVersion: aliases=[], creation_timestamp=1701132896439, current_stage='Production', description='The model version 2 was transitioned to Production on 2023-11-27', last_updated_timestamp=1701134140708, name='nyc-taxi-regressor-xgboost', run_id='2dabc4596bf64f43a0590490745b0597', run_link='', source=('/Users/aasth/Desktop/Data '\n",
       "  'analytics/MLOps/datatalks-zoomcamp/mlops-zoomcamp/02-experiment-tracking/mlruns/1/2dabc4596bf64f43a0590490745b0597/artifacts/models_mlflow'), status='READY', status_message=None, tags={}, user_id=None, version=2>,\n",
       "  <ModelVersion: aliases=[], creation_timestamp=1701135564738, current_stage='None', description='', last_updated_timestamp=1701135564738, name='nyc-taxi-regressor-xgboost', run_id='b3576fd5d2f94bc3b6a654c97036a2a0', run_link='', source=('/Users/aasth/Desktop/Data '\n",
       "  'analytics/MLOps/datatalks-zoomcamp/mlops-zoomcamp/02-experiment-tracking/mlruns/1/b3576fd5d2f94bc3b6a654c97036a2a0/artifacts/models_mlflow'), status='READY', status_message=None, tags={}, user_id=None, version=4>], name='nyc-taxi-regressor-xgboost', tags={}>]"
      ]
     },
     "execution_count": 75,
     "metadata": {},
     "output_type": "execute_result"
    }
   ],
   "source": [
    "client.search_registered_models()"
   ]
  },
  {
   "cell_type": "code",
   "execution_count": 88,
   "metadata": {},
   "outputs": [
    {
     "name": "stdout",
     "output_type": "stream",
     "text": [
      "version: 2, stage: Archived\n",
      "version: 5, stage: None\n",
      "version: 4, stage: Staging\n"
     ]
    }
   ],
   "source": [
    "model_name = \"nyc-taxi-regressor-final\"\n",
    "latest_versions = client.get_latest_versions(name=model_name)\n",
    "\n",
    "for version in latest_versions:\n",
    "    print(f\"version: {version.version}, stage: {version.current_stage}\")"
   ]
  },
  {
   "cell_type": "code",
   "execution_count": 89,
   "metadata": {},
   "outputs": [
    {
     "data": {
      "text/plain": [
       "<ModelVersion: aliases=[], creation_timestamp=1701136797739, current_stage='Staging', description='', last_updated_timestamp=1701136837805, name='nyc-taxi-regressor-final', run_id='2dabc4596bf64f43a0590490745b0597', run_link='', source=('/Users/aasth/Desktop/Data '\n",
       " 'analytics/MLOps/datatalks-zoomcamp/mlops-zoomcamp/02-experiment-tracking/mlruns/1/2dabc4596bf64f43a0590490745b0597/artifacts/models_mlflow'), status='READY', status_message=None, tags={'model': 'XGBoost'}, user_id=None, version=5>"
      ]
     },
     "execution_count": 89,
     "metadata": {},
     "output_type": "execute_result"
    }
   ],
   "source": [
    "#moving xgboost to staging\n",
    "model_version = 5\n",
    "new_stage = \"Staging\"\n",
    "client.transition_model_version_stage(\n",
    "    name=model_name,\n",
    "    version=model_version,\n",
    "    stage=new_stage,\n",
    "    archive_existing_versions=False\n",
    ")"
   ]
  },
  {
   "cell_type": "code",
   "execution_count": 90,
   "metadata": {},
   "outputs": [
    {
     "data": {
      "text/plain": [
       "<ModelVersion: aliases=[], creation_timestamp=1701136797739, current_stage='Staging', description='The model version 5 was transitioned to Staging on 2023-11-27', last_updated_timestamp=1701136839888, name='nyc-taxi-regressor-final', run_id='2dabc4596bf64f43a0590490745b0597', run_link='', source=('/Users/aasth/Desktop/Data '\n",
       " 'analytics/MLOps/datatalks-zoomcamp/mlops-zoomcamp/02-experiment-tracking/mlruns/1/2dabc4596bf64f43a0590490745b0597/artifacts/models_mlflow'), status='READY', status_message=None, tags={'model': 'XGBoost'}, user_id=None, version=5>"
      ]
     },
     "execution_count": 90,
     "metadata": {},
     "output_type": "execute_result"
    }
   ],
   "source": [
    "from datetime import datetime\n",
    "\n",
    "date = datetime.today().date()\n",
    "client.update_model_version(\n",
    "    name=model_name,\n",
    "    version=model_version,\n",
    "    description=f\"The model version {model_version} was transitioned to {new_stage} on {date}\"\n",
    ")"
   ]
  },
  {
   "cell_type": "code",
   "execution_count": null,
   "metadata": {},
   "outputs": [],
   "source": []
  },
  {
   "cell_type": "markdown",
   "metadata": {},
   "source": [
    "### Comparing versions and selecting the new \"Production\" model\n",
    "\n",
    "In the last section, we will retrieve models registered in the model registry and compare their performance on an unseen test set. The idea is to simulate the scenario in which a deployment engineer has to interact with the model registry to decide whether to update the model version that is in production or not.\n",
    "\n",
    "These are the steps:\n",
    "\n",
    "1. Load the test dataset, which corresponds to the NYC Green Taxi data from the month of March 2021.\n",
    "2. Download the `DictVectorizer` that was fitted using the training data and saved to MLflow as an artifact, and load it with pickle.\n",
    "3. Preprocess the test set using the `DictVectorizer` so we can properly feed the regressors.\n",
    "4. Make predictions on the test set using the model versions that are currently in the \"Staging\" and \"Production\" stages, and compare their performance.\n",
    "5. Based on the results, update the \"Production\" model version accordingly.\n",
    "\n",
    "\n",
    "**Note: the model registry doesn't actually deploy the model to production when you transition a model to the \"Production\" stage, it just assign a label to that model version. You should complement the registry with some CI/CD code that does the actual deployment.**"
   ]
  },
  {
   "cell_type": "code",
   "execution_count": 79,
   "metadata": {},
   "outputs": [],
   "source": [
    "from sklearn.metrics import mean_squared_error\n",
    "import pandas as pd\n",
    "\n",
    "\n",
    "def read_dataframe(filename):\n",
    "    df = pd.read_parquet(filename)\n",
    "\n",
    "    df['duration'] = df.tpep_dropoff_datetime - df.tpep_pickup_datetime\n",
    "    df.duration = df.duration.apply(lambda td: td.total_seconds() / 60)\n",
    "\n",
    "    df = df[(df.duration >= 1) & (df.duration <= 60)]\n",
    "\n",
    "    categorical = ['PULocationID', 'DOLocationID']\n",
    "    df[categorical] = df[categorical].astype(str)\n",
    "    \n",
    "    return df\n",
    "\n",
    "\n",
    "def preprocess(df, dv):\n",
    "    df['PU_DO'] = df['PULocationID'] + '_' + df['DOLocationID']\n",
    "    categorical = ['PU_DO']\n",
    "    numerical = ['trip_distance']\n",
    "    train_dicts = df[categorical + numerical].to_dict(orient='records')\n",
    "    return dv.transform(train_dicts)\n",
    "\n",
    "\n",
    "def test_model(name, stage, X_test, y_test):\n",
    "    model = mlflow.pyfunc.load_model(f\"models:/{name}/{stage}\")\n",
    "    y_pred = model.predict(X_test)\n",
    "    return {\"rmse\": mean_squared_error(y_test, y_pred, squared=False)}"
   ]
  },
  {
   "cell_type": "code",
   "execution_count": null,
   "metadata": {},
   "outputs": [],
   "source": []
  },
  {
   "cell_type": "code",
   "execution_count": 80,
   "metadata": {},
   "outputs": [],
   "source": [
    "df = read_dataframe(\"/Users/aasth/Desktop/Data analytics/MLOps/datatalks-zoomcamp/mlops-zoomcamp/data/yellow_tripdata_2022-03.parquet\")"
   ]
  },
  {
   "cell_type": "code",
   "execution_count": 81,
   "metadata": {},
   "outputs": [
    {
     "data": {
      "application/vnd.jupyter.widget-view+json": {
       "model_id": "a1834c569b3b4ede8019776b5f254aeb",
       "version_major": 2,
       "version_minor": 0
      },
      "text/plain": [
       "Downloading artifacts:   0%|          | 0/1 [00:00<?, ?it/s]"
      ]
     },
     "metadata": {},
     "output_type": "display_data"
    },
    {
     "data": {
      "text/plain": [
       "'/Users/aasth/Desktop/Data analytics/MLOps/datatalks-zoomcamp/mlops-zoomcamp/02-experiment-tracking/preprocessor'"
      ]
     },
     "execution_count": 81,
     "metadata": {},
     "output_type": "execute_result"
    }
   ],
   "source": [
    "client.download_artifacts(run_id=run_id, path='preprocessor', dst_path='.')"
   ]
  },
  {
   "cell_type": "code",
   "execution_count": 82,
   "metadata": {},
   "outputs": [],
   "source": [
    "import pickle\n",
    "\n",
    "with open(\"preprocessor/preprocessor.b\", \"rb\") as f_in:\n",
    "    dv = pickle.load(f_in)"
   ]
  },
  {
   "cell_type": "code",
   "execution_count": 83,
   "metadata": {},
   "outputs": [],
   "source": [
    "X_test = preprocess(df, dv)"
   ]
  },
  {
   "cell_type": "code",
   "execution_count": 84,
   "metadata": {},
   "outputs": [],
   "source": [
    "target = \"duration\"\n",
    "y_test = df[target].values"
   ]
  },
  {
   "cell_type": "code",
   "execution_count": null,
   "metadata": {},
   "outputs": [],
   "source": []
  },
  {
   "cell_type": "code",
   "execution_count": 91,
   "metadata": {},
   "outputs": [
    {
     "name": "stderr",
     "output_type": "stream",
     "text": [
      "/opt/homebrew/anaconda3/envs/mlops-zoomcamp-venv/lib/python3.11/site-packages/xgboost/core.py:160: UserWarning: [21:00:55] WARNING: /Users/runner/work/xgboost/xgboost/src/objective/regression_obj.cu:209: reg:linear is now deprecated in favor of reg:squarederror.\n",
      "  warnings.warn(smsg, UserWarning)\n"
     ]
    },
    {
     "name": "stdout",
     "output_type": "stream",
     "text": [
      "CPU times: user 35 s, sys: 698 ms, total: 35.7 s\n",
      "Wall time: 5.33 s\n"
     ]
    },
    {
     "data": {
      "text/plain": [
       "{'rmse': 5.942320674583259}"
      ]
     },
     "execution_count": 91,
     "metadata": {},
     "output_type": "execute_result"
    }
   ],
   "source": [
    "%time test_model(name=model_name, stage=\"Staging\", X_test=X_test, y_test=y_test)"
   ]
  },
  {
   "cell_type": "code",
   "execution_count": 92,
   "metadata": {},
   "outputs": [
    {
     "data": {
      "text/plain": [
       "<ModelVersion: aliases=[], creation_timestamp=1701136797739, current_stage='Production', description='The model version 5 was transitioned to Staging on 2023-11-27', last_updated_timestamp=1701136914410, name='nyc-taxi-regressor-final', run_id='2dabc4596bf64f43a0590490745b0597', run_link='', source=('/Users/aasth/Desktop/Data '\n",
       " 'analytics/MLOps/datatalks-zoomcamp/mlops-zoomcamp/02-experiment-tracking/mlruns/1/2dabc4596bf64f43a0590490745b0597/artifacts/models_mlflow'), status='READY', status_message=None, tags={'model': 'XGBoost'}, user_id=None, version=5>"
      ]
     },
     "execution_count": 92,
     "metadata": {},
     "output_type": "execute_result"
    }
   ],
   "source": [
    "client.transition_model_version_stage(\n",
    "    name=model_name,\n",
    "    version=5,\n",
    "    stage=\"Production\",\n",
    "    archive_existing_versions=True\n",
    ")"
   ]
  },
  {
   "cell_type": "code",
   "execution_count": 93,
   "metadata": {},
   "outputs": [
    {
     "data": {
      "text/plain": [
       "<ModelVersion: aliases=[], creation_timestamp=1701136797739, current_stage='Production', description='The model version 5 was transitioned to Production on 2023-11-27', last_updated_timestamp=1701136921512, name='nyc-taxi-regressor-final', run_id='2dabc4596bf64f43a0590490745b0597', run_link='', source=('/Users/aasth/Desktop/Data '\n",
       " 'analytics/MLOps/datatalks-zoomcamp/mlops-zoomcamp/02-experiment-tracking/mlruns/1/2dabc4596bf64f43a0590490745b0597/artifacts/models_mlflow'), status='READY', status_message=None, tags={'model': 'XGBoost'}, user_id=None, version=5>"
      ]
     },
     "execution_count": 93,
     "metadata": {},
     "output_type": "execute_result"
    }
   ],
   "source": [
    "client.update_model_version(\n",
    "    name=model_name,\n",
    "    version=5,\n",
    "    description=f\"The model version 5 was transitioned to Production on {date}\"\n",
    ")"
   ]
  },
  {
   "cell_type": "code",
   "execution_count": 94,
   "metadata": {},
   "outputs": [
    {
     "name": "stderr",
     "output_type": "stream",
     "text": [
      "/opt/homebrew/anaconda3/envs/mlops-zoomcamp-venv/lib/python3.11/site-packages/xgboost/core.py:160: UserWarning: [21:02:51] WARNING: /Users/runner/work/xgboost/xgboost/src/objective/regression_obj.cu:209: reg:linear is now deprecated in favor of reg:squarederror.\n",
      "  warnings.warn(smsg, UserWarning)\n"
     ]
    },
    {
     "name": "stdout",
     "output_type": "stream",
     "text": [
      "CPU times: user 34.5 s, sys: 581 ms, total: 35.1 s\n",
      "Wall time: 4.77 s\n"
     ]
    },
    {
     "data": {
      "text/plain": [
       "{'rmse': 5.942320674583259}"
      ]
     },
     "execution_count": 94,
     "metadata": {},
     "output_type": "execute_result"
    }
   ],
   "source": [
    "%time test_model(name=model_name, stage=\"Production\", X_test=X_test, y_test=y_test) #xgboost time"
   ]
  },
  {
   "cell_type": "code",
   "execution_count": 95,
   "metadata": {},
   "outputs": [
    {
     "name": "stdout",
     "output_type": "stream",
     "text": [
      "version: 2, stage: Archived\n",
      "version: 3, stage: None\n",
      "version: 4, stage: Staging\n",
      "version: 5, stage: Production\n"
     ]
    }
   ],
   "source": [
    "latest_versions = client.get_latest_versions(name=model_name)\n",
    "\n",
    "for version in latest_versions:\n",
    "    print(f\"version: {version.version}, stage: {version.current_stage}\")"
   ]
  },
  {
   "cell_type": "code",
   "execution_count": 96,
   "metadata": {},
   "outputs": [
    {
     "name": "stdout",
     "output_type": "stream",
     "text": [
      "CPU times: user 74.2 ms, sys: 90.8 ms, total: 165 ms\n",
      "Wall time: 299 ms\n"
     ]
    },
    {
     "data": {
      "text/plain": [
       "{'rmse': 9.913258959342382}"
      ]
     },
     "execution_count": 96,
     "metadata": {},
     "output_type": "execute_result"
    }
   ],
   "source": [
    "#linear regression time\n",
    "# To fetch a model version by stage, simply provide the model stage as part of the model URI, and it will fetch the most recent version of the model in that stage.\n",
    "# clearer to fetch a model by its version number than stage but in this case we are using stage \n",
    "%time test_model(name=model_name, stage=\"Staging\", X_test=X_test, y_test=y_test)"
   ]
  },
  {
   "cell_type": "code",
   "execution_count": null,
   "metadata": {},
   "outputs": [],
   "source": []
  }
 ],
 "metadata": {
  "interpreter": {
   "hash": "0848c9d6c7d415ad6c477ff7ff8e98694d1a4aa96d0deee89244642e6b630036"
  },
  "kernelspec": {
   "display_name": "Python 3.9.12 ('exp-tracking-env')",
   "language": "python",
   "name": "python3"
  },
  "language_info": {
   "codemirror_mode": {
    "name": "ipython",
    "version": 3
   },
   "file_extension": ".py",
   "mimetype": "text/x-python",
   "name": "python",
   "nbconvert_exporter": "python",
   "pygments_lexer": "ipython3",
   "version": "3.11.5"
  },
  "orig_nbformat": 4
 },
 "nbformat": 4,
 "nbformat_minor": 2
}
